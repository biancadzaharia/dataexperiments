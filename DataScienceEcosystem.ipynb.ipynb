{
  "metadata": {
    "kernelspec": {
      "name": "python",
      "display_name": "Python (Pyodide)",
      "language": "python"
    },
    "language_info": {
      "codemirror_mode": {
        "name": "python",
        "version": 3
      },
      "file_extension": ".py",
      "mimetype": "text/x-python",
      "name": "python",
      "nbconvert_exporter": "python",
      "pygments_lexer": "ipython3",
      "version": "3.8"
    }
  },
  "nbformat_minor": 5,
  "nbformat": 4,
  "cells": [
    {
      "id": "f9a9db77-8a9b-43b9-8f55-d373507f54a6",
      "cell_type": "markdown",
      "source": "# Data Science Tools and Ecosystem (H1)",
      "metadata": {}
    },
    {
      "id": "357bfac3-5147-41bf-bacc-04e7a0edd0ee",
      "cell_type": "markdown",
      "source": " In this notebook, Data Science Tools and Ecosystem are summarized.",
      "metadata": {}
    },
    {
      "id": "9014589b-2712-47c3-b098-25e77999124f",
      "cell_type": "markdown",
      "source": "**Objectives:**\n\n- List popular languages for Data Science  \n- Create tables using Markdown  \n- Convert minutes into hours using Python  \n- List commonly used libraries in Data Science  \n- Create ordered and unordered lists in Markdown",
      "metadata": {}
    },
    {
      "id": "1b77d132-7ab7-4f12-9540-8ce20135be86",
      "cell_type": "markdown",
      "source": "Some of the popular languages that Data Scientists use are:\n1. NumPy – pentru calcule numerice și matrici\n2. Pandas – pentru manipularea și analiza datelor\n3. Matplotlib – pentru vizualizări și grafice",
      "metadata": {}
    },
    {
      "id": "aed8a2be-08a4-4c67-9486-7f95dd5ebef5",
      "cell_type": "markdown",
      "source": "Some of the commonly used libraries used by Data Scientists include:\n1. NumPy – for numerical computations and array operations\n2. Pandas – for data manipulation and analysis\n3. Matplotlib – for data visualization",
      "metadata": {}
    },
    {
      "id": "2480bccf-368f-41bd-b779-780c06a1308b",
      "cell_type": "markdown",
      "source": "| Data Science Tools |\n|--------------------|\n| Jupyter Notebook   |\n| RStudio            |\n| Apache Zeppelin    |\n",
      "metadata": {}
    },
    {
      "id": "c0862f05-10f4-4eae-a284-55203f203711",
      "cell_type": "markdown",
      "source": "### Below are a few examples of evaluating arithmetic expressions in Python.(H3)\n\n",
      "metadata": {}
    },
    {
      "id": "191feac4-7115-44f0-ad07-ec508898b5fd",
      "cell_type": "code",
      "source": "(3*4)+5",
      "metadata": {
        "trusted": true
      },
      "outputs": [
        {
          "execution_count": 5,
          "output_type": "execute_result",
          "data": {
            "text/plain": "17"
          },
          "metadata": {}
        }
      ],
      "execution_count": 5
    },
    {
      "id": "a3b85463-a165-406f-b482-02c8349247d0",
      "cell_type": "markdown",
      "source": " This a simple arithmetic expression to mutiply then add integers",
      "metadata": {}
    },
    {
      "id": "bfd991fa-a288-47c7-a52c-9f182c7128d0",
      "cell_type": "code",
      "source": "200/60",
      "metadata": {
        "trusted": true
      },
      "outputs": [
        {
          "execution_count": 6,
          "output_type": "execute_result",
          "data": {
            "text/plain": "3.3333333333333335"
          },
          "metadata": {}
        }
      ],
      "execution_count": 6
    },
    {
      "id": "c95e8a5e-2a6e-4822-8176-f990f55eefbc",
      "cell_type": "markdown",
      "source": "This will convert 200 minutes to hours by diving by 60",
      "metadata": {}
    },
    {
      "id": "07875df4-48c2-4c3c-8efc-bb42074342b9",
      "cell_type": "markdown",
      "source": "## Author\nBianca Diana Zaharia",
      "metadata": {}
    },
    {
      "id": "93d006d6-5116-4997-955e-bb499538efa2",
      "cell_type": "code",
      "source": "",
      "metadata": {
        "trusted": true
      },
      "outputs": [],
      "execution_count": null
    }
  ]
}